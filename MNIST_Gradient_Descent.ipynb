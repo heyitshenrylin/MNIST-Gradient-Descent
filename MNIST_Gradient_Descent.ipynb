{
  "nbformat": 4,
  "nbformat_minor": 0,
  "metadata": {
    "kernelspec": {
      "display_name": "Python 3",
      "language": "python",
      "name": "python3"
    },
    "language_info": {
      "codemirror_mode": {
        "name": "ipython",
        "version": 3
      },
      "file_extension": ".py",
      "mimetype": "text/x-python",
      "name": "python",
      "nbconvert_exporter": "python",
      "pygments_lexer": "ipython3",
      "version": "3.7.2"
    },
    "colab": {
      "provenance": [],
      "collapsed_sections": []
    }
  },
  "cells": [
    {
      "cell_type": "code",
      "metadata": {
        "id": "osIlcNspc5f5",
        "colab": {
          "base_uri": "https://localhost:8080/",
          "height": 375
        },
        "outputId": "91bb9423-aef6-4867-ccb3-ce33c69216d0"
      },
      "source": [
        "from keras.datasets import mnist\n",
        "import matplotlib.pyplot as plt\n",
        "import numpy as np\n",
        "\n",
        "np.set_printoptions(threshold=1000)\n",
        "def plot_digit(image):\n",
        "    \"\"\"\n",
        "    This function receives an image and plots the digit. \n",
        "    \"\"\"\n",
        "    plt.imshow(image, cmap='gray')\n",
        "    plt.show()\n",
        "\n",
        "# The x variables contain the images of handwritten digits the y variables contain their labels indicating \n",
        "# which digit is in the image. We will see an example of image and label shortly. We have two data sets here:\n",
        "# training and test sets. The idea is that we use the training set to learn the function and then we evaluate \n",
        "# the system on images it did not see during training. This is to simulate the scenario where we build a system\n",
        "# and we use it in the wild, where people write new digits and we would like our system to accurately recognize them.\n",
        "(x_train, y_train), (x_test, y_test) = mnist.load_data()\n",
        "\n",
        "# Each image is of size 28x28 and the training data set has 60,000 images\n",
        "# the shape of x_train should then be (60000, 28, 28).\n",
        "print(x_train.shape)\n",
        "\n",
        "# Let's take a look at the first training instance. I hope you can recognize the digit 5 in the image.\n",
        "# Feel free to change the index of x_train to see other images. \n",
        "plot_digit(x_train[0])\n",
        "\n",
        "# The y_train structure has shape 60,0000, with one entry for each image. The value of the first\n",
        "# entry of y_train should be a five, indicating that the first image is of a 5.\n",
        "print(y_train.shape)\n",
        "print('Label: ', y_train[0])"
      ],
      "execution_count": null,
      "outputs": [
        {
          "output_type": "stream",
          "name": "stdout",
          "text": [
            "Downloading data from https://storage.googleapis.com/tensorflow/tf-keras-datasets/mnist.npz\n",
            "11493376/11490434 [==============================] - 0s 0us/step\n",
            "11501568/11490434 [==============================] - 0s 0us/step\n",
            "(60000, 28, 28)\n"
          ]
        },
        {
          "output_type": "display_data",
          "data": {
            "image/png": "[encoded data removed]",
            "text/plain": [
              "<Figure size 432x288 with 1 Axes>"
            ]
          },
          "metadata": {
            "needs_background": "light"
          }
        },
        {
          "output_type": "stream",
          "name": "stdout",
          "text": [
            "(60000,)\n",
            "Label:  5\n"
          ]
        }
      ]
    },
    {
      "cell_type": "code",
      "metadata": {
        "id": "5WlD2zFBc5f6",
        "colab": {
          "base_uri": "https://localhost:8080/"
        },
        "outputId": "52cf8435-3cae-4055-c39d-830413b0867b"
      },
      "source": [
        "# Instead of using all 60,000 images, we will use \"only\" 20,000 in our experiments to speed up training.\n",
        "training_size = 20000\n",
        "\n",
        "# We will flatten the images to make our implementation easier. Instead of providing \n",
        "# an image of size 28x28 as input, we will provide a vector of size 784, with one entry \n",
        "# for each pixel of the image. We will also normalize the values in the images. The pixels\n",
        "# values in the images vary from 0 to 255. We normalize them to avoid overflow. This will \n",
        "# be clear later once we better understand the learning algorithm.\n",
        "images, labels = (x_train[0:training_size].reshape(training_size,28*28) / 255, y_train[0:training_size])\n",
        "\n",
        "# The flattened images will be kept as column vectors in the matrix images\n",
        "images = images.T\n",
        "print('Shape of flattned images: ', images.shape)\n",
        "\n",
        "# Here we apply the same transformations described above on the test data. \n",
        "images_test = x_test.reshape(x_test.shape[0], 28*28) / 255\n",
        "images_test = images_test.T\n",
        "print(images_test.shape)"
      ],
      "execution_count": null,
      "outputs": [
        {
          "output_type": "stream",
          "name": "stdout",
          "text": [
            "Shape of flattned images:  (784, 20000)\n",
            "(784, 10000)\n"
          ]
        }
      ]
    },
    {
      "cell_type": "markdown",
      "metadata": {
        "id": "gYX62SJ_c5f7"
      },
      "source": [
        "<h3>Training a Model</h3>\n",
        "\n",
        "We will train one function $h_{w_i}$ for each digit $i$, which will be parameterized by a vector $w_i$ and a scalar $b_i$. The vector $w_i$ will contain one entry for each pixel in the flattened image. That way, if an image $x$ contains the digit $i$, then the operation $w_i \\cdot x + b$ should produce a number close to $1$; the operation should produce a number close to $0$ if image $x$ does not contain digit $i$. We define $h_{w_i}$ as follows:\n",
        "\n",
        "\\begin{equation*}\n",
        "h_{w_i} = w_i \\cdot x + b\n",
        "\\end{equation*}\n",
        "\n",
        "Given an image $x$ our model predicts digit $i$ for the largest value returned by $h_{w_i}$ for all $i$. For example, if we pass the first image of the training data x_train[0], then the system will predict the digit 5 correctly if the output of the functions $h_{w_i}$ are similar to the following (these are made-up numbers to illustrate the procedure).\n",
        "\n",
        "\\begin{align*}\n",
        "h_{w_0} &= 0.1 \\\\\n",
        "h_{w_1} &= 0.01 \\\\\n",
        "h_{w_2} &= 0.05 \\\\\n",
        "h_{w_3} &= 0.25 \\\\\n",
        "h_{w_4} &= 0.40 \\\\\n",
        "h_{w_5} &= 0.95 \\\\\n",
        "h_{w_6} &= 0.80 \\\\\n",
        "h_{w_7} &= 0.12 \\\\\n",
        "h_{w_8} &= 0.71 \\\\\n",
        "h_{w_9} &= 0.01 \\\\\n",
        "\\end{align*}\n",
        "\n",
        "Since $h_{w_5}$ is the largest value, the model will predict that the image is of the digit 5.\n",
        "\n",
        "We will use the training data (variables images and labels) to discover vectors $w_i$ e scalars $b_i$ that classify most of the training data correctly. This will be achieved by defining an error function and then applying gradient descent to minimize the error. We will adjust the values of $w_i$ and $b$ to reduce the error for each function $h$. \n",
        "\n",
        "Let $y$ be the label of an image $x$ for a specific function $h_{w_i}$. $y = 0$ if $x$ does not contain the digit $i$ and $y = 1$ otherwise. The error function $J(w_i)$ is defined as the sum of errors for all $m$ images in the training set.\n",
        "\\begin{equation*}\n",
        "J(w_i) = \\frac{1}{2m} \\sum_{x, y} (h_{w_i}(x) - y)^2\n",
        "\\end{equation*}\n",
        "As an example, if $h_{w_i}(x) = 0.95$ for an image that does not contain digit $i$, then the error for this particular image will be $(0.95 - 0)^2 = 0.9025$; if $h_{w_i}(x) = 0$, then the error would have been zero for this instance. The positive error informs gradient descent that the values of $w_i$ need to be adjusted to reduce the error.  \n",
        "\n",
        "<h3>Gradient Descent</h3>\n",
        "\n",
        "We will initialize the values of $w_i$ and $b$ with zeros and then adjust them according to gradient descent. \n",
        "\n",
        "Let $w_{i, j}$ be the $j$-th value of the vector $w_i$ for digit $i$. The value of $w_{i, j}$ and $b$ will be modified according to gradient descent (see equations below), where $\\alpha$ is a small value indicating the size of the step performed by gradient descent. Recall from the lectures that if $\\alpha$ is large gradient descent might fail to find the minimum of the error function.   \n",
        "\\begin{align*}\n",
        "w_{i, j} &= w_{i, j} - \\alpha \\frac{\\partial J(w_i)}{\\partial w_{i, j}} \\text{ for all }j \\hspace{1cm}\n",
        "\\frac{\\partial J(w_i)}{\\partial w_{i, j}}=(\\hat{Y} - Y).X^T \\\\\n",
        "b &= b - \\alpha \\frac{\\partial J(w_i)}{\\partial b}\n",
        "\\end{align*}\n",
        "\n",
        "If implemented correctly, the equations above finds values of $w_i$ and $b$ that correctly classify approximately 85\\% of the test data. The problem with the approach described is that we need to implement 10 different functions, one for each digit. This is not only time consuming but also computationally expensive. Instead, we will discuss a vectorized version of the algorithm described above. \n",
        "\n",
        "<h3> Vectorized Implementation </h3>\n",
        "\n",
        "In our vectorized implementation the model will produce a vector as output, with one entry for each digit. This way we will not need to implement one function $h_{w_i}$ for each digit, we will implement a single function $h_{W}$ for all digits, where $W$ is a matrix containing all vectors $w_i$ as row vectors. In addition to the matrix $W$, we will use a vector $B$ with one entry for each digit. The input images will be provided as a matrix $X$ with one flattened image in each column of $X$. \n",
        "\n",
        "The labels will also be provided as a matrix $Y$ of shape $(10, m)$, where $m$ is the number of instances in the training set. Each column of $Y$ is a one-hot vector (i.e., a vector with one entry equals $1$ and all other entries equal $0$). The entry with value of $1$ in an one-hot vector indicates the digit of the image. \n",
        "\n",
        "Here are all matrices we will use in our vectorized representation.\n",
        "\n",
        "\\begin{align*}\n",
        "X =& \n",
        " \\begin{bmatrix}\n",
        " p_{0,0} &  p_{0, 1} & \\cdots &  p_{0, m-1} \\\\\n",
        " p_{1, 0} &  p_{1,1} & \\cdots &  p_{1, m-1} \\\\\n",
        " \\cdots & \\cdots & \\cdots & \\cdots \\\\\n",
        "  p_{783, 0} &  p_{783, 1} & \\cdots &  p_{783, m-1} \\\\\n",
        "\\end{bmatrix} \\\\\n",
        "W =& \n",
        " \\begin{bmatrix}\n",
        "w_{0,0} & w_{0,1} & \\cdots & w_{0,783} \\\\\n",
        "w_{1,0} & w_{1,1} & \\cdots & w_{1,783} \\\\\n",
        "\\cdots & \\cdots & \\cdots & \\cdots \\\\\n",
        "w_{9,0} & w_{9,1} & \\cdots & w_{9,783} \\\\\n",
        "\\end{bmatrix} \\\\\n",
        "B =& \n",
        " \\begin{bmatrix}\n",
        "b_0 \\\\\n",
        "b_1 \\\\\n",
        "\\cdots \\\\\n",
        "b_9\n",
        "\\end{bmatrix} \\\\\n",
        "Y =& \n",
        " \\begin{bmatrix}\n",
        " y_{0,0} &  y_{0, 1} & \\cdots &  y_{0, m-1} \\\\\n",
        " y_{1, 0} &  y_{1,1} & \\cdots &  y_{1, m-1} \\\\\n",
        " \\cdots & \\cdots & \\cdots & \\cdots \\\\\n",
        "  y_{9, 0} &  y_{9, 1} & \\cdots & y_{9, m-1} \\\\\n",
        "\\end{bmatrix} \\\\\n",
        "\\end{align*}\n",
        "\n",
        "Using the matrices above we can predict the label of all instances in a data set by performing the following operation: $\\hat{Y} = W.$dot$(X) + B$. The largest number in each column of matrix $\\hat{Y}$ will indicate the predicted label. \n",
        "\n",
        "Complete the code below with gradient descent."
      ]
    },
    {
      "cell_type": "code",
      "metadata": {
        "id": "gtkndi86c5f9",
        "colab": {
          "base_uri": "https://localhost:8080/"
        },
        "outputId": "aeb644bb-f103-4edd-e994-9a122233f998"
      },
      "source": [
        "def h_theta(X, W, B):\n",
        "    \"\"\"\n",
        "    For a given matrix W and vector B, this function predicts the value\n",
        "    of each digit for each image of X. Here we assume that each column of X\n",
        "    is a flattened image. \n",
        "    \"\"\"\n",
        "    return W.dot(X) + B \n",
        "\n",
        "# Learning rate alpha, for controlling the step of gradient descent\n",
        "alpha = 0.01\n",
        "\n",
        "# Number of instances in the training set\n",
        "m = images.shape[1]\n",
        "\n",
        "# Matrix W initialized with zeros\n",
        "W = np.zeros((10, 28*28))\n",
        "\n",
        "# Matrix B also initialized with zeros\n",
        "B = np.zeros((10,1))\n",
        "\n",
        "# Creating Y matrix where each column is an one-hot vector\n",
        "Y = np.zeros((10, m))\n",
        "for index, value in enumerate(labels):\n",
        "    Y[value][index] = 1\n",
        "\n",
        "# Performs 1000 iterations of gradient descent\n",
        "for i in range(100):\n",
        "    # get guesses\n",
        "    y_hat = h_theta(images, W, B)\n",
        "    # get gradient\n",
        "    w_partial = np.multiply(np.divide(1,m), np.subtract(y_hat, Y).dot(images.T)) \n",
        "    b_partial = np.multiply(np.divide(1,m), np.sum(np.subtract(y_hat, Y), axis=1)).reshape(-1,1)\n",
        "    # take negative gradient to train W and B\n",
        "    W = W - np.multiply(alpha, w_partial)\n",
        "    B = B - np.multiply(alpha, b_partial) \n",
        "\n",
        "print(\"Trained W: \\n\", W)\n",
        "print(\"Trained B: \\n\", B)\n",
        "  \n",
        "# Once finished performing 1000 gradient descent iterations, then compute the percentage\n",
        "# of images from the test set classified correctly; print the percentage on the screen.\n",
        "y_hat_rows = np.argmax(h_theta(images_test, W, B) , axis=0)\n",
        "\n",
        "count = 0\n",
        "for i in range(len(y_hat_rows)):\n",
        "  if y_hat_rows[i] == y_test[i]:\n",
        "    count = count + 1\n",
        "\n",
        "print(np.divide(count, len(y_hat_rows))*100, \"% accuracy\")\n"
      ],
      "execution_count": null,
      "outputs": [
        {
          "output_type": "stream",
          "name": "stdout",
          "text": [
            "Trained W: \n",
            " [[0. 0. 0. ... 0. 0. 0.]\n",
            " [0. 0. 0. ... 0. 0. 0.]\n",
            " [0. 0. 0. ... 0. 0. 0.]\n",
            " ...\n",
            " [0. 0. 0. ... 0. 0. 0.]\n",
            " [0. 0. 0. ... 0. 0. 0.]\n",
            " [0. 0. 0. ... 0. 0. 0.]]\n",
            "Trained B: \n",
            " [[ 0.00620949]\n",
            " [ 0.02633531]\n",
            " [ 0.00359977]\n",
            " [ 0.00330112]\n",
            " [ 0.01312623]\n",
            " [ 0.01336257]\n",
            " [ 0.00719895]\n",
            " [ 0.01452466]\n",
            " [-0.00683856]\n",
            " [ 0.00595207]]\n",
            "81.95 % accuracy\n"
          ]
        }
      ]
    },
    {
      "cell_type": "markdown",
      "metadata": {
        "id": "6WK261gSc5gA"
      },
      "source": [
        "By plotting the reshaped image of each vector $w_i$ (reshaped from 784 to 28x28) we can see what the model has learned. You should observe that the image of each vector $w_i$ resembles the digit it is trying to recognize. This is because the dot product $x \\cdot w_i$ will be large if $x$ and $w_i$ are similar; the result will be small otherwise. This explains why the image of a vector $w_i$ looks like an average image of many handwritten digits. "
      ]
    },
    {
      "cell_type": "code",
      "metadata": {
        "id": "ZZFlQ8C6c5gA",
        "colab": {
          "base_uri": "https://localhost:8080/",
          "height": 1000
        },
        "outputId": "07c4d471-3a76-4a50-ed7c-304c529a9d81"
      },
      "source": [
        "for i in range(10):\n",
        "    w = W[i,:].reshape(28, 28)\n",
        "    plot_digit(w)"
      ],
      "execution_count": null,
      "outputs": [
        {
          "output_type": "display_data",
          "data": {
            "image/png": "[encoded data removed]",
            "text/plain": [
              "<Figure size 432x288 with 1 Axes>"
            ]
          },
          "metadata": {
            "needs_background": "light"
          }
        },
        {
          "output_type": "display_data",
          "data": {
            "image/png": "[encoded data removed]",
            "text/plain": [
              "<Figure size 432x288 with 1 Axes>"
            ]
          },
          "metadata": {
            "needs_background": "light"
          }
        },
        {
          "output_type": "display_data",
          "data": {
            "image/png": "[encoded data removed]",
            "text/plain": [
              "<Figure size 432x288 with 1 Axes>"
            ]
          },
          "metadata": {
            "needs_background": "light"
          }
        },
        {
          "output_type": "display_data",
          "data": {
            "image/png": "[encoded data removed]",
            "text/plain": [
              "<Figure size 432x288 with 1 Axes>"
            ]
          },
          "metadata": {
            "needs_background": "light"
          }
        },
        {
          "output_type": "display_data",
          "data": {
            "image/png": "[encoded data removed]",
            "text/plain": [
              "<Figure size 432x288 with 1 Axes>"
            ]
          },
          "metadata": {
            "needs_background": "light"
          }
        },
        {
          "output_type": "display_data",
          "data": {
            "image/png": "[encoded data removed]",
            "text/plain": [
              "<Figure size 432x288 with 1 Axes>"
            ]
          },
          "metadata": {
            "needs_background": "light"
          }
        },
        {
          "output_type": "display_data",
          "data": {
            "image/png": "[encoded data removed]",
            "text/plain": [
              "<Figure size 432x288 with 1 Axes>"
            ]
          },
          "metadata": {
            "needs_background": "light"
          }
        },
        {
          "output_type": "display_data",
          "data": {
            "image/png": "[encoded data removed]",
            "text/plain": [
              "<Figure size 432x288 with 1 Axes>"
            ]
          },
          "metadata": {
            "needs_background": "light"
          }
        },
        {
          "output_type": "display_data",
          "data": {
            "image/png": "[encoded data removed]",
            "text/plain": [
              "<Figure size 432x288 with 1 Axes>"
            ]
          },
          "metadata": {
            "needs_background": "light"
          }
        },
        {
          "output_type": "display_data",
          "data": {
            "image/png": "[encoded data removed]",
            "text/plain": [
              "<Figure size 432x288 with 1 Axes>"
            ]
          },
          "metadata": {
            "needs_background": "light"
          }
        }
      ]
    },
    {
      "cell_type": "code",
      "metadata": {
        "id": "_3Ktk3unc5gA"
      },
      "source": [],
      "execution_count": null,
      "outputs": []
    }
  ]
}